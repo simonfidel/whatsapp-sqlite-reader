{
 "cells": [
  {
   "cell_type": "markdown",
   "metadata": {},
   "source": [
    "# WhatsApp sqlite DB tools"
   ]
  },
  {
   "cell_type": "markdown",
   "metadata": {},
   "source": [
    "### Original Medium post: https://medium.com/@1522933668924/extracting-whatsapp-messages-from-backups-with-code-examples-49186de94ab4\n",
    "#### License: Free to use, include credit / attribution"
   ]
  },
  {
   "cell_type": "code",
   "execution_count": 38,
   "metadata": {},
   "outputs": [],
   "source": [
    "import pandas as pd\n",
    "import sqlite3\n",
    "import base64\n",
    "import re"
   ]
  },
  {
   "cell_type": "markdown",
   "metadata": {},
   "source": [
    "## First, Let's figure out what tables do we have in the DB"
   ]
  },
  {
   "cell_type": "code",
   "execution_count": null,
   "metadata": {},
   "outputs": [],
   "source": [
    "con = sqlite3.connect(\"ChatStorage.sqlite\")\n",
    "tables = pd.read_sql_query(\"SELECT name FROM sqlite_master WHERE type='table'\", con)\n",
    "con.close()\n",
    "tables"
   ]
  },
  {
   "cell_type": "markdown",
   "metadata": {},
   "source": [
    "## Since I already looked through those tables I know that the interesting one is ZWAMESSAGE, let's open it and start looking around"
   ]
  },
  {
   "cell_type": "code",
   "execution_count": null,
   "metadata": {},
   "outputs": [],
   "source": [
    "con = sqlite3.connect(\"ChatStorage.sqlite\")\n",
    "df = pd.read_sql_query(\"SELECT * from ZWAMESSAGE\", con)\n",
    "con.close()\n",
    "df.tail(5)"
   ]
  },
  {
   "cell_type": "markdown",
   "metadata": {},
   "source": [
    "### Let's see what columns are there?"
   ]
  },
  {
   "cell_type": "code",
   "execution_count": null,
   "metadata": {},
   "outputs": [],
   "source": [
    "print('\\n'.join([str(i+1)+' '+x for i, x in enumerate(df.columns)]))"
   ]
  },
  {
   "cell_type": "code",
   "execution_count": null,
   "metadata": {},
   "outputs": [],
   "source": [
    "get_df_by_sender = lambda df, sender_id: df[df['ZFROMJID'].str.contains(sender_id, na=False)]\n",
    "\n",
    "# Example: Get all messages sent by a specific group or person\n",
    "filtered_df = get_df_by_sender(df, \"120363330063276227@g.us\")  \n",
    "print(filtered_df.ZTEXT.tail(10))"
   ]
  },
  {
   "cell_type": "markdown",
   "metadata": {},
   "source": [
    "## Now that we have a DataFrame let's start by searching based on the phone number"
   ]
  },
  {
   "cell_type": "code",
   "execution_count": 49,
   "metadata": {},
   "outputs": [],
   "source": [
    "#get df that only contains chats with a specific phone number (or part of it)\n",
    "get_df_by_number = lambda df, num: df[df.ZTOJID.str.contains(num).fillna(False) | df.ZFROMJID.str.contains(num).fillna(False)]\n",
    "#note that the fillna is critical to prevent the weird False | None != None | False behavior"
   ]
  },
  {
   "cell_type": "code",
   "execution_count": null,
   "metadata": {},
   "outputs": [],
   "source": [
    "df2 = get_df_by_number(df, '1163')"
   ]
  },
  {
   "cell_type": "code",
   "execution_count": null,
   "metadata": {},
   "outputs": [],
   "source": [
    "#let's check how many messages did we find\n",
    "len(df2)"
   ]
  },
  {
   "cell_type": "code",
   "execution_count": null,
   "metadata": {},
   "outputs": [],
   "source": [
    "#let's see the text\n",
    "list(df2.ZTEXT)"
   ]
  },
  {
   "cell_type": "code",
   "execution_count": null,
   "metadata": {},
   "outputs": [],
   "source": [
    "df['decoded_ZPUSHNAME'] = df['ZPUSHNAME'].apply(lambda x: base64.b64decode(x).decode(errors='ignore') if isinstance(x, str) else x)\n",
    "\n",
    "# Now check the decoded values\n",
    "print(df[['ZPUSHNAME', 'decoded_ZPUSHNAME']].head(30))"
   ]
  },
  {
   "cell_type": "code",
   "execution_count": null,
   "metadata": {},
   "outputs": [],
   "source": [
    "list(df.decoded_ZPUSHNAME)"
   ]
  },
  {
   "cell_type": "code",
   "execution_count": null,
   "metadata": {},
   "outputs": [],
   "source": [
    "def extract_readable_text(text):\n",
    "    if not isinstance(text, str):\n",
    "        return text  # Skip non-string values\n",
    "    matches = re.findall(r'[a-zA-Z0-9@._-]+', text)  # Extract alphanumeric characters, emails, or phone-like patterns\n",
    "    return \" \".join(matches) if matches else None  # Join found patterns into a single string\n",
    "\n",
    "df.loc[:, 'cleaned_ZPUSHNAME'] = df2['decoded_ZPUSHNAME'].apply(extract_readable_text)\n",
    "\n",
    "# Check unique cleaned names\n",
    "print(df['cleaned_ZPUSHNAME'].unique())"
   ]
  },
  {
   "cell_type": "markdown",
   "metadata": {},
   "source": [
    "## Ok, it works. Let's add some tools to extract interesting messages and test them"
   ]
  },
  {
   "cell_type": "code",
   "execution_count": 59,
   "metadata": {},
   "outputs": [],
   "source": [
    "#let's make a few more accessors\n",
    "get_df_by_contact_name = lambda df, name: df[df.decoded_ZPUSHNAME.str.contains(name).fillna(False)]\n",
    "get_df_by_chat_session_id = lambda df, sid: df[df.ZCHATSESSION == sid]\n",
    "grep_for_message_text = lambda df, txt: df[df.ZTEXT.str.contains(txt).fillna(False)]"
   ]
  },
  {
   "cell_type": "code",
   "execution_count": null,
   "metadata": {},
   "outputs": [],
   "source": [
    "get_df_by_contact_name(df2, 'Josh').head(2)"
   ]
  },
  {
   "cell_type": "code",
   "execution_count": null,
   "metadata": {},
   "outputs": [],
   "source": [
    "#Let's find all chat sessions that a specific contact participated in\n",
    "get_df_by_contact_name(df, 'Emma').ZCHATSESSION.unique()"
   ]
  },
  {
   "cell_type": "code",
   "execution_count": null,
   "metadata": {},
   "outputs": [],
   "source": [
    "#now let's read a specific chat session\n",
    "get_df_by_chat_session_id(df, 105.0).head(2)"
   ]
  },
  {
   "cell_type": "code",
   "execution_count": null,
   "metadata": {},
   "outputs": [],
   "source": [
    "grep_for_message_text(df, 'URGENT').head(2)"
   ]
  },
  {
   "cell_type": "markdown",
   "metadata": {},
   "source": [
    "## Ok, next step - let's go figure out how to format dates"
   ]
  },
  {
   "cell_type": "code",
   "execution_count": 16,
   "metadata": {},
   "outputs": [],
   "source": [
    "from datetime import datetime"
   ]
  },
  {
   "cell_type": "code",
   "execution_count": null,
   "metadata": {},
   "outputs": [],
   "source": [
    "#Let's see if it just works if we try to convert ZWMESSAGEDATE to datetime assuming it is a timestamp\n",
    "datetime.fromtimestamp(df4.ZMESSAGEDATE.iloc[0])"
   ]
  },
  {
   "cell_type": "markdown",
   "metadata": {},
   "source": [
    "### Well, that didn't work - how could there be a message from 1985? -- reading around it seems Apple likes to count time on iPhones from 1.1.2001 - Let's see what happens if we add that to our timestamp?"
   ]
  },
  {
   "cell_type": "code",
   "execution_count": null,
   "metadata": {},
   "outputs": [],
   "source": [
    "timestamp_to_apple = lambda x: datetime.fromtimestamp(x) + (datetime(2001,1,1) - datetime.fromtimestamp(0))\n",
    "timestamp_to_apple(df4.ZMESSAGEDATE.iloc[0])"
   ]
  },
  {
   "cell_type": "markdown",
   "metadata": {},
   "source": [
    "### It works! Let's add a 'Date' column to our DB to show readable dates and make it the index"
   ]
  },
  {
   "cell_type": "code",
   "execution_count": null,
   "metadata": {},
   "outputs": [],
   "source": [
    "df['Date'] = df.ZMESSAGEDATE.apply(timestamp_to_apple)\n",
    "df.index = df.Date    # let's make a date index\n",
    "df = df.sort_index()  # now let's sort by index\n",
    "df.head()"
   ]
  },
  {
   "cell_type": "markdown",
   "metadata": {},
   "source": [
    "### hmmm, I got messages from 2012? with no text? \n",
    "After looking around it seems to be that these messages indicate the creation dates of chat sessions or groups and are probably received from WhatsApp servers..."
   ]
  },
  {
   "cell_type": "markdown",
   "metadata": {},
   "source": [
    "## Ok let's try to print everything in a nice readable format"
   ]
  },
  {
   "cell_type": "code",
   "execution_count": null,
   "metadata": {},
   "outputs": [],
   "source": [
    "#get the dataframe of all messages where contact Emma appears and show the top 5\n",
    "#values in the ZTEXT (message text) column together with index (which we set to date)\n",
    "get_df_by_chat_session_id(df, 159.0)[['ZTEXT']].head() "
   ]
  },
  {
   "cell_type": "markdown",
   "metadata": {},
   "source": [
    "### it is a bit annoying that we can't see the full text, so let's fix it"
   ]
  },
  {
   "cell_type": "code",
   "execution_count": null,
   "metadata": {},
   "outputs": [],
   "source": [
    "pd.set_option('display.max_colwidth', -1)\n",
    "get_df_by_chat_session_id(df, 159.0)[['ZTEXT']].head() "
   ]
  },
  {
   "cell_type": "markdown",
   "metadata": {},
   "source": [
    "# The end - hope it was useful. If it did, please star / fork this repo :)"
   ]
  }
 ],
 "metadata": {
  "kernelspec": {
   "display_name": "Python 3 (ipykernel)",
   "language": "python",
   "name": "python3"
  },
  "language_info": {
   "codemirror_mode": {
    "name": "ipython",
    "version": 3
   },
   "file_extension": ".py",
   "mimetype": "text/x-python",
   "name": "python",
   "nbconvert_exporter": "python",
   "pygments_lexer": "ipython3",
   "version": "3.12.1"
  }
 },
 "nbformat": 4,
 "nbformat_minor": 4
}
